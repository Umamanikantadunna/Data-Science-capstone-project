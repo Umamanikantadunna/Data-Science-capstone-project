{
  "nbformat": 4,
  "nbformat_minor": 0,
  "metadata": {
    "colab": {
      "name": "Untitled12.ipynb",
      "provenance": [],
      "collapsed_sections": [],
      "authorship_tag": "ABX9TyOPUyag/FdfL3yPAY067AfI",
      "include_colab_link": true
    },
    "kernelspec": {
      "name": "python3",
      "display_name": "Python 3"
    }
  },
  "cells": [
    {
      "cell_type": "markdown",
      "metadata": {
        "id": "view-in-github",
        "colab_type": "text"
      },
      "source": [
        "<a href=\"https://colab.research.google.com/github/Umamanikantadunna/Data-Science-capstone-project/blob/master/IBM%20Data%20Science%20Captone.ipynb\" target=\"_parent\"><img src=\"https://colab.research.google.com/assets/colab-badge.svg\" alt=\"Open In Colab\"/></a>"
      ]
    },
    {
      "cell_type": "markdown",
      "metadata": {
        "id": "mI6Zq0q1V_Ol",
        "colab_type": "text"
      },
      "source": [
        "# IBM Data Science Professional Certificate | Applied Data Science Capstone \n",
        "Coursera Course Link: https://www.coursera.org/professional-certificates/ibm-data-science\n",
        "\n",
        "# Instructions:\n",
        "In this week, you will continue working on your capstone project. Please remember by the end of this week, you will need to submit the following:\n",
        "\n",
        "1. A full report consisting of all of the following components (15 marks):\n",
        "Introduction where you discuss the business problem and who would be interested in this project.\n",
        "Data where you describe the data that will be used to solve the problem and the source of the data.\n",
        "Methodology section which represents the main component of the report where you discuss and describe any exploratory data analysis that you did, any inferential statistical testing that you performed, if any, and what machine learnings were used and why.\n",
        "Results section where you discuss the results.\n",
        "Discussion section where you discuss any observations you noted and any recommendations you can make based on the results.\n",
        "Conclusion section where you conclude the report.\n",
        "2. A link to your Notebook on your Github repository pushed showing your code. (15 marks)\n",
        "3. Your choice of a presentation or blogpost. (10 marks)\n",
        "Here are examples of my submissions that should give you an idea of what your report would look like, what your notebook would look like in terms of clean, clear, and well-commented code, and what your presentation would look like or your blogpost would look like:\n",
        "\n",
        "Link for Report, Notebook https://github.com/Umamanikantadunna/Data-Science-capstone-project.git\n",
        "link for blogpost http://bit.ly/2Sm4ALm"
      ]
    }
  ]
}